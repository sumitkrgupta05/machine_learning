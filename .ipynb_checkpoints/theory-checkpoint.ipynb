{
 "cells": [
  {
   "cell_type": "markdown",
   "id": "47c3b213-2b56-47d0-8ab4-be0e1ae10eed",
   "metadata": {},
   "source": [
    "# Q) Define ML with real life example??"
   ]
  },
  {
   "cell_type": "raw",
   "id": "69432c5a-9a02-4bbf-b312-26185803a203",
   "metadata": {},
   "source": [
    "i) machine learning is set of techniques to make computers better at doing things that humans (traditionally) can do better then machines.\n",
    "\n",
    "ii) ml involves making machines learn things like humans do.\n",
    "\n",
    "iii) ml mainly consists of 2 parts suchs as:\n",
    "   1> Deep Learning\n",
    "   2> Mathematical Models\n",
    "\n",
    "iv) Real life ml use:\n",
    "-- in mail we see that theres a spam section. {which automatically detect the mail and put the bkr mail in spam}.\n",
    "\n",
    "--personal assistance such as alexa which understand the human lang and do their task.\n",
    "\n",
    "--youtube recommendation is another good example of ml.\n",
    "\n",
    "--driverless car such as tesla is a very good example of ml."
   ]
  },
  {
   "cell_type": "markdown",
   "id": "9b92500e-e147-48b4-bb4d-f566ad954492",
   "metadata": {},
   "source": [
    "# Q) Define Linear Regression??"
   ]
  },
  {
   "cell_type": "raw",
   "id": "16d2cd7a-c83e-4451-adcb-c964b1871719",
   "metadata": {},
   "source": [
    "=> Linear regression is an algorithm that provides a linear relationship between an independent variable and a dependent variable to predict the outcome of future events. It is a statistical method used in data science and machine learning for predictive analysis.\n",
    "\n",
    "=> Thus, linear regression is a supervised learning algorithm that simulates a mathematical relationship between variables and makes predictions for continuous or numeric variables such as sales, salary, age, product price, etc.\n",
    "\n",
    "=> A sloped straight line represents the linear regression model.\n",
    "\n",
    "=> Best Fit Line for a Linear Regression Model\n",
    "\n",
    "X-axis = Independent variable\n",
    "\n",
    "Y-axis = Output / dependent variable\n",
    "\n",
    "Line of regression = Best fit line for a model\n",
    "\n",
    "Here, a line is plotted for the given data points that suitably fit all the issues. Hence, it is called the ‘best fit line.’ The goal of the linear regression algorithm is to find this best fit line seen in the above figure."
   ]
  },
  {
   "cell_type": "code",
   "execution_count": null,
   "id": "71f88168-b3ca-497f-bd16-8516a808e542",
   "metadata": {},
   "outputs": [],
   "source": []
  }
 ],
 "metadata": {
  "kernelspec": {
   "display_name": "Python 3 (ipykernel)",
   "language": "python",
   "name": "python3"
  },
  "language_info": {
   "codemirror_mode": {
    "name": "ipython",
    "version": 3
   },
   "file_extension": ".py",
   "mimetype": "text/x-python",
   "name": "python",
   "nbconvert_exporter": "python",
   "pygments_lexer": "ipython3",
   "version": "3.11.7"
  }
 },
 "nbformat": 4,
 "nbformat_minor": 5
}
